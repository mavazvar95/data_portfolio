{
 "cells": [
  {
   "cell_type": "markdown",
   "id": "ae289267-8147-4dca-9c8f-1d50905a4175",
   "metadata": {},
   "source": [
    "# 🚲 CitiBike NYC – Exploratory Data Analysis\n",
    "*Author: Miguel Ángel Vázquez Varela*"
   ]
  },
  {
   "cell_type": "markdown",
   "id": "4f9c10dd-8b3e-4744-96da-3e5264925e49",
   "metadata": {},
   "source": [
    "## 1.Introduction "
   ]
  },
  {
   "cell_type": "markdown",
   "id": "6d539d1d-db3c-49e7-bf99-5e2f809b55db",
   "metadata": {},
   "source": [
    "In this notebook, we explore the publicly available CitiBike trip data for New York City.  \n",
    "The goal is to understand user behavior, including trip duration, temporal patterns, popular stations, and user types.  \n",
    "This analysis will help demonstrate fundamental data analysis skills and the ability to extract insights from real-world datasets."
   ]
  },
  {
   "cell_type": "markdown",
   "id": "0c7539f2-8ec0-4572-9c39-8a92d00b0b2c",
   "metadata": {},
   "source": [
    "## 2. Load and merge data"
   ]
  },
  {
   "cell_type": "code",
   "execution_count": 1,
   "id": "290af4fe-1cba-487a-b5a2-c417d41188e3",
   "metadata": {},
   "outputs": [],
   "source": [
    "import pandas as pd\n",
    "import zipfile\n",
    "import requests\n",
    "from io import BytesIO"
   ]
  },
  {
   "cell_type": "code",
   "execution_count": 2,
   "id": "61436152-59fc-4404-9d46-7274f2288e3a",
   "metadata": {},
   "outputs": [],
   "source": [
    "# Download the zip file\n",
    "url = \"https://s3.amazonaws.com/tripdata/202509-citibike-tripdata.zip\"\n",
    "r = requests.get(url)\n",
    "z = zipfile.ZipFile(BytesIO(r.content))"
   ]
  },
  {
   "cell_type": "code",
   "execution_count": 3,
   "id": "afff9788-2249-4eb8-a32b-5311397f7c92",
   "metadata": {},
   "outputs": [
    {
     "name": "stdout",
     "output_type": "stream",
     "text": [
      "Files in ZIP: ['202509-citibike-tripdata_3.csv', '202509-citibike-tripdata_2.csv', '202509-citibike-tripdata_1.csv', '202509-citibike-tripdata_5.csv', '202509-citibike-tripdata_4.csv', '202509-citibike-tripdata_6.csv']\n"
     ]
    }
   ],
   "source": [
    "# List the files inside the zip\n",
    "print(\"Files in ZIP:\", z.namelist())"
   ]
  },
  {
   "cell_type": "code",
   "execution_count": 4,
   "id": "acb4868e-6324-4727-9e28-d12e89a8b775",
   "metadata": {},
   "outputs": [],
   "source": [
    "# Read all CSV files and merge into a single DataFrame\n",
    "dfs = []\n",
    "for f in z.namelist():\n",
    "    df_part = pd.read_csv(z.open(f), parse_dates=['started_at', 'ended_at'], low_memory=False)\n",
    "    dfs.append(df_part)\n",
    "\n",
    "df = pd.concat(dfs, ignore_index=True)"
   ]
  },
  {
   "cell_type": "code",
   "execution_count": 5,
   "id": "fe55451c-e2eb-4391-b219-6fa2cf5947ba",
   "metadata": {},
   "outputs": [
    {
     "data": {
      "text/html": [
       "<div>\n",
       "<style scoped>\n",
       "    .dataframe tbody tr th:only-of-type {\n",
       "        vertical-align: middle;\n",
       "    }\n",
       "\n",
       "    .dataframe tbody tr th {\n",
       "        vertical-align: top;\n",
       "    }\n",
       "\n",
       "    .dataframe thead th {\n",
       "        text-align: right;\n",
       "    }\n",
       "</style>\n",
       "<table border=\"1\" class=\"dataframe\">\n",
       "  <thead>\n",
       "    <tr style=\"text-align: right;\">\n",
       "      <th></th>\n",
       "      <th>ride_id</th>\n",
       "      <th>rideable_type</th>\n",
       "      <th>started_at</th>\n",
       "      <th>ended_at</th>\n",
       "      <th>start_station_name</th>\n",
       "      <th>start_station_id</th>\n",
       "      <th>end_station_name</th>\n",
       "      <th>end_station_id</th>\n",
       "      <th>start_lat</th>\n",
       "      <th>start_lng</th>\n",
       "      <th>end_lat</th>\n",
       "      <th>end_lng</th>\n",
       "      <th>member_casual</th>\n",
       "    </tr>\n",
       "  </thead>\n",
       "  <tbody>\n",
       "    <tr>\n",
       "      <th>0</th>\n",
       "      <td>3B0C318A532F94B6</td>\n",
       "      <td>electric_bike</td>\n",
       "      <td>2025-09-03 12:44:03.601</td>\n",
       "      <td>2025-09-03 12:59:16.021</td>\n",
       "      <td>W 13 St &amp; 5 Ave</td>\n",
       "      <td>5947.04</td>\n",
       "      <td>E 54 St &amp; 1 Ave</td>\n",
       "      <td>6608.09</td>\n",
       "      <td>40.735445</td>\n",
       "      <td>-73.994310</td>\n",
       "      <td>40.756265</td>\n",
       "      <td>-73.964179</td>\n",
       "      <td>member</td>\n",
       "    </tr>\n",
       "    <tr>\n",
       "      <th>1</th>\n",
       "      <td>67CC23751CDE251A</td>\n",
       "      <td>classic_bike</td>\n",
       "      <td>2025-09-14 09:18:47.498</td>\n",
       "      <td>2025-09-14 09:33:03.258</td>\n",
       "      <td>Lexington Ave &amp; E 36 St</td>\n",
       "      <td>6313.10</td>\n",
       "      <td>E 54 St &amp; 1 Ave</td>\n",
       "      <td>6608.09</td>\n",
       "      <td>40.747574</td>\n",
       "      <td>-73.978801</td>\n",
       "      <td>40.756265</td>\n",
       "      <td>-73.964179</td>\n",
       "      <td>member</td>\n",
       "    </tr>\n",
       "    <tr>\n",
       "      <th>2</th>\n",
       "      <td>2D021D09674010AF</td>\n",
       "      <td>electric_bike</td>\n",
       "      <td>2025-09-06 08:17:40.035</td>\n",
       "      <td>2025-09-06 08:25:41.230</td>\n",
       "      <td>Willoughby Ave &amp; Hall St</td>\n",
       "      <td>4611.03</td>\n",
       "      <td>Park Pl &amp; Carlton Ave</td>\n",
       "      <td>4125.13</td>\n",
       "      <td>40.691960</td>\n",
       "      <td>-73.965369</td>\n",
       "      <td>40.677358</td>\n",
       "      <td>-73.972110</td>\n",
       "      <td>member</td>\n",
       "    </tr>\n",
       "    <tr>\n",
       "      <th>3</th>\n",
       "      <td>4641BFF9A21AFB34</td>\n",
       "      <td>electric_bike</td>\n",
       "      <td>2025-09-04 04:30:51.715</td>\n",
       "      <td>2025-09-04 04:44:51.147</td>\n",
       "      <td>Lexington Ave &amp; E 36 St</td>\n",
       "      <td>6313.10</td>\n",
       "      <td>W 12 St &amp; Hudson St</td>\n",
       "      <td>5997.10</td>\n",
       "      <td>40.747574</td>\n",
       "      <td>-73.978801</td>\n",
       "      <td>40.737530</td>\n",
       "      <td>-74.005589</td>\n",
       "      <td>member</td>\n",
       "    </tr>\n",
       "    <tr>\n",
       "      <th>4</th>\n",
       "      <td>D796A741FA3963FF</td>\n",
       "      <td>classic_bike</td>\n",
       "      <td>2025-09-06 14:32:16.249</td>\n",
       "      <td>2025-09-06 14:35:42.124</td>\n",
       "      <td>W 13 St &amp; 5 Ave</td>\n",
       "      <td>5947.04</td>\n",
       "      <td>W 15 St &amp; 6 Ave</td>\n",
       "      <td>5989.02</td>\n",
       "      <td>40.735445</td>\n",
       "      <td>-73.994310</td>\n",
       "      <td>40.738046</td>\n",
       "      <td>-73.996430</td>\n",
       "      <td>member</td>\n",
       "    </tr>\n",
       "  </tbody>\n",
       "</table>\n",
       "</div>"
      ],
      "text/plain": [
       "            ride_id  rideable_type              started_at  \\\n",
       "0  3B0C318A532F94B6  electric_bike 2025-09-03 12:44:03.601   \n",
       "1  67CC23751CDE251A   classic_bike 2025-09-14 09:18:47.498   \n",
       "2  2D021D09674010AF  electric_bike 2025-09-06 08:17:40.035   \n",
       "3  4641BFF9A21AFB34  electric_bike 2025-09-04 04:30:51.715   \n",
       "4  D796A741FA3963FF   classic_bike 2025-09-06 14:32:16.249   \n",
       "\n",
       "                 ended_at        start_station_name start_station_id  \\\n",
       "0 2025-09-03 12:59:16.021           W 13 St & 5 Ave          5947.04   \n",
       "1 2025-09-14 09:33:03.258   Lexington Ave & E 36 St          6313.10   \n",
       "2 2025-09-06 08:25:41.230  Willoughby Ave & Hall St          4611.03   \n",
       "3 2025-09-04 04:44:51.147   Lexington Ave & E 36 St          6313.10   \n",
       "4 2025-09-06 14:35:42.124           W 13 St & 5 Ave          5947.04   \n",
       "\n",
       "        end_station_name end_station_id  start_lat  start_lng    end_lat  \\\n",
       "0        E 54 St & 1 Ave        6608.09  40.735445 -73.994310  40.756265   \n",
       "1        E 54 St & 1 Ave        6608.09  40.747574 -73.978801  40.756265   \n",
       "2  Park Pl & Carlton Ave        4125.13  40.691960 -73.965369  40.677358   \n",
       "3    W 12 St & Hudson St        5997.10  40.747574 -73.978801  40.737530   \n",
       "4        W 15 St & 6 Ave        5989.02  40.735445 -73.994310  40.738046   \n",
       "\n",
       "     end_lng member_casual  \n",
       "0 -73.964179        member  \n",
       "1 -73.964179        member  \n",
       "2 -73.972110        member  \n",
       "3 -74.005589        member  \n",
       "4 -73.996430        member  "
      ]
     },
     "execution_count": 5,
     "metadata": {},
     "output_type": "execute_result"
    }
   ],
   "source": [
    "#Now, we can see the dataset\n",
    "df.head()"
   ]
  },
  {
   "cell_type": "markdown",
   "id": "66de0a8d-73db-4f9c-af6f-18d90f9666cd",
   "metadata": {},
   "source": [
    "## 3. Quick glance at the dataset"
   ]
  },
  {
   "cell_type": "markdown",
   "id": "8160c8d0-e1b0-4564-a9f5-16240a4ae7a7",
   "metadata": {},
   "source": [
    "Each row represents a single trip, including start and end times, stations, bike type, and user type.\n",
    "Viewing the first few rows helps understand the structure before further analysis."
   ]
  },
  {
   "cell_type": "code",
   "execution_count": 6,
   "id": "c0751f19-299b-4924-a571-25090059c69a",
   "metadata": {},
   "outputs": [
    {
     "name": "stdout",
     "output_type": "stream",
     "text": [
      "Dataset dimensions: (5287447, 13)\n"
     ]
    }
   ],
   "source": [
    "print(\"Dataset dimensions:\", df.shape)"
   ]
  },
  {
   "cell_type": "markdown",
   "id": "1b798172-390c-4e21-a796-add8098254a6",
   "metadata": {},
   "source": [
    "## 4. Data types and missing values"
   ]
  },
  {
   "cell_type": "code",
   "execution_count": 7,
   "id": "0e7c25ba-558f-4ebd-8782-8d49babe0ca0",
   "metadata": {},
   "outputs": [
    {
     "name": "stdout",
     "output_type": "stream",
     "text": [
      "<class 'pandas.core.frame.DataFrame'>\n",
      "RangeIndex: 5287447 entries, 0 to 5287446\n",
      "Data columns (total 13 columns):\n",
      " #   Column              Dtype         \n",
      "---  ------              -----         \n",
      " 0   ride_id             object        \n",
      " 1   rideable_type       object        \n",
      " 2   started_at          datetime64[ns]\n",
      " 3   ended_at            datetime64[ns]\n",
      " 4   start_station_name  object        \n",
      " 5   start_station_id    object        \n",
      " 6   end_station_name    object        \n",
      " 7   end_station_id      object        \n",
      " 8   start_lat           float64       \n",
      " 9   start_lng           float64       \n",
      " 10  end_lat             float64       \n",
      " 11  end_lng             float64       \n",
      " 12  member_casual       object        \n",
      "dtypes: datetime64[ns](2), float64(4), object(7)\n",
      "memory usage: 524.4+ MB\n"
     ]
    }
   ],
   "source": [
    "df.info()"
   ]
  },
  {
   "cell_type": "markdown",
   "id": "6be29166-4681-4079-90f5-920d3eb19b44",
   "metadata": {},
   "source": [
    "## 5. Descriptive statistics"
   ]
  },
  {
   "cell_type": "code",
   "execution_count": 8,
   "id": "18b9ad2a-44e1-4932-99dc-5b86ae63e6e8",
   "metadata": {},
   "outputs": [
    {
     "data": {
      "text/html": [
       "<div>\n",
       "<style scoped>\n",
       "    .dataframe tbody tr th:only-of-type {\n",
       "        vertical-align: middle;\n",
       "    }\n",
       "\n",
       "    .dataframe tbody tr th {\n",
       "        vertical-align: top;\n",
       "    }\n",
       "\n",
       "    .dataframe thead th {\n",
       "        text-align: right;\n",
       "    }\n",
       "</style>\n",
       "<table border=\"1\" class=\"dataframe\">\n",
       "  <thead>\n",
       "    <tr style=\"text-align: right;\">\n",
       "      <th></th>\n",
       "      <th>started_at</th>\n",
       "      <th>ended_at</th>\n",
       "      <th>start_lat</th>\n",
       "      <th>start_lng</th>\n",
       "      <th>end_lat</th>\n",
       "      <th>end_lng</th>\n",
       "    </tr>\n",
       "  </thead>\n",
       "  <tbody>\n",
       "    <tr>\n",
       "      <th>count</th>\n",
       "      <td>5287447</td>\n",
       "      <td>5287447</td>\n",
       "      <td>5.285329e+06</td>\n",
       "      <td>5.285329e+06</td>\n",
       "      <td>5.274510e+06</td>\n",
       "      <td>5.274510e+06</td>\n",
       "    </tr>\n",
       "    <tr>\n",
       "      <th>mean</th>\n",
       "      <td>2025-09-16 08:04:36.524298496</td>\n",
       "      <td>2025-09-16 08:18:07.976823040</td>\n",
       "      <td>4.073626e+01</td>\n",
       "      <td>-7.397235e+01</td>\n",
       "      <td>4.073613e+01</td>\n",
       "      <td>-7.397240e+01</td>\n",
       "    </tr>\n",
       "    <tr>\n",
       "      <th>min</th>\n",
       "      <td>2025-08-30 23:27:40.264000</td>\n",
       "      <td>2025-09-01 00:00:00.755000</td>\n",
       "      <td>4.063338e+01</td>\n",
       "      <td>-7.403699e+01</td>\n",
       "      <td>0.000000e+00</td>\n",
       "      <td>-7.407146e+01</td>\n",
       "    </tr>\n",
       "    <tr>\n",
       "      <th>25%</th>\n",
       "      <td>2025-09-09 08:16:51.659000064</td>\n",
       "      <td>2025-09-09 08:28:11.847000064</td>\n",
       "      <td>4.071269e+01</td>\n",
       "      <td>-7.399294e+01</td>\n",
       "      <td>4.071263e+01</td>\n",
       "      <td>-7.399301e+01</td>\n",
       "    </tr>\n",
       "    <tr>\n",
       "      <th>50%</th>\n",
       "      <td>2025-09-16 10:53:29.500000</td>\n",
       "      <td>2025-09-16 11:05:53.911000064</td>\n",
       "      <td>4.073498e+01</td>\n",
       "      <td>-7.397983e+01</td>\n",
       "      <td>4.073481e+01</td>\n",
       "      <td>-7.397990e+01</td>\n",
       "    </tr>\n",
       "    <tr>\n",
       "      <th>75%</th>\n",
       "      <td>2025-09-23 16:39:25.086000128</td>\n",
       "      <td>2025-09-23 16:52:27.959000064</td>\n",
       "      <td>4.075929e+01</td>\n",
       "      <td>-7.395593e+01</td>\n",
       "      <td>4.075912e+01</td>\n",
       "      <td>-7.395593e+01</td>\n",
       "    </tr>\n",
       "    <tr>\n",
       "      <th>max</th>\n",
       "      <td>2025-09-30 23:58:26.908000</td>\n",
       "      <td>2025-09-30 23:59:59.859000</td>\n",
       "      <td>4.088630e+01</td>\n",
       "      <td>-7.384672e+01</td>\n",
       "      <td>4.088630e+01</td>\n",
       "      <td>0.000000e+00</td>\n",
       "    </tr>\n",
       "    <tr>\n",
       "      <th>std</th>\n",
       "      <td>NaN</td>\n",
       "      <td>NaN</td>\n",
       "      <td>3.969451e-02</td>\n",
       "      <td>2.868166e-02</td>\n",
       "      <td>4.345287e-02</td>\n",
       "      <td>4.314828e-02</td>\n",
       "    </tr>\n",
       "  </tbody>\n",
       "</table>\n",
       "</div>"
      ],
      "text/plain": [
       "                          started_at                       ended_at  \\\n",
       "count                        5287447                        5287447   \n",
       "mean   2025-09-16 08:04:36.524298496  2025-09-16 08:18:07.976823040   \n",
       "min       2025-08-30 23:27:40.264000     2025-09-01 00:00:00.755000   \n",
       "25%    2025-09-09 08:16:51.659000064  2025-09-09 08:28:11.847000064   \n",
       "50%       2025-09-16 10:53:29.500000  2025-09-16 11:05:53.911000064   \n",
       "75%    2025-09-23 16:39:25.086000128  2025-09-23 16:52:27.959000064   \n",
       "max       2025-09-30 23:58:26.908000     2025-09-30 23:59:59.859000   \n",
       "std                              NaN                            NaN   \n",
       "\n",
       "          start_lat     start_lng       end_lat       end_lng  \n",
       "count  5.285329e+06  5.285329e+06  5.274510e+06  5.274510e+06  \n",
       "mean   4.073626e+01 -7.397235e+01  4.073613e+01 -7.397240e+01  \n",
       "min    4.063338e+01 -7.403699e+01  0.000000e+00 -7.407146e+01  \n",
       "25%    4.071269e+01 -7.399294e+01  4.071263e+01 -7.399301e+01  \n",
       "50%    4.073498e+01 -7.397983e+01  4.073481e+01 -7.397990e+01  \n",
       "75%    4.075929e+01 -7.395593e+01  4.075912e+01 -7.395593e+01  \n",
       "max    4.088630e+01 -7.384672e+01  4.088630e+01  0.000000e+00  \n",
       "std    3.969451e-02  2.868166e-02  4.345287e-02  4.314828e-02  "
      ]
     },
     "execution_count": 8,
     "metadata": {},
     "output_type": "execute_result"
    }
   ],
   "source": [
    "df.describe()"
   ]
  },
  {
   "cell_type": "markdown",
   "id": "b134c2d0-601b-44db-a49d-73eae67c8c7a",
   "metadata": {},
   "source": [
    "## 6. Basic Data Cleaning"
   ]
  },
  {
   "cell_type": "code",
   "execution_count": 10,
   "id": "23b6054e-0bb5-419c-8a83-9bc78559ed97",
   "metadata": {},
   "outputs": [],
   "source": [
    "# Now, need to remove those rows with trip duration negative values:\n",
    "# 1st. Calculate trip duration in minutes\n",
    "df['duration_min'] = (df['ended_at'] - df['started_at']).dt.total_seconds() / 60\n",
    "# Remove trips with negative or extremely long durations (>180 minutes)\n",
    "df = df[(df['duration_min'] > 0) & (df['duration_min'] < 180)]"
   ]
  },
  {
   "cell_type": "markdown",
   "id": "8f806c3e-5652-4f2f-8a76-4a70baf8e4e8",
   "metadata": {},
   "source": [
    "## 7. Temporal exploration"
   ]
  },
  {
   "cell_type": "markdown",
   "id": "cdd50eec-2f35-4ad1-9443-b9f1bd4d668f",
   "metadata": {},
   "source": [
    "We explore patterns across days of the week.\n",
    "Typically, commuter patterns show peaks on weekdays, while weekends may reflect leisure usage."
   ]
  },
  {
   "cell_type": "code",
   "execution_count": 11,
   "id": "99e8deec-17e4-4027-ba60-e5b328e8c940",
   "metadata": {},
   "outputs": [
    {
     "data": {
      "text/plain": [
       "<Axes: title={'center': 'Trips by Day of the Week'}, xlabel='day_of_week'>"
      ]
     },
     "execution_count": 11,
     "metadata": {},
     "output_type": "execute_result"
    },
    {
     "data": {
      "image/png": "[encoded data removed]",
      "text/plain": [
       "<Figure size 640x480 with 1 Axes>"
      ]
     },
     "metadata": {},
     "output_type": "display_data"
    }
   ],
   "source": [
    "df['hour'] = df['started_at'].dt.hour\n",
    "df['day_of_week'] = df['started_at'].dt.day_name()\n",
    "df['day_of_week'].value_counts().sort_index().plot(kind='bar', title='Trips by Day of the Week')"
   ]
  },
  {
   "cell_type": "markdown",
   "id": "74a3508f-e79e-49be-a353-647589000321",
   "metadata": {},
   "source": [
    "## 8. User type distribution"
   ]
  },
  {
   "cell_type": "markdown",
   "id": "f533fc80-7291-46e0-b856-e78dd5afc017",
   "metadata": {},
   "source": [
    "CitiBike distinguishes between “member” (regular subscribers) and “casual” (occasional users).\n",
    "Understanding the proportion of user types is key for interpreting usage patterns."
   ]
  },
  {
   "cell_type": "code",
   "execution_count": 12,
   "id": "f999eb33-85a8-400c-9be7-7e32674608f7",
   "metadata": {},
   "outputs": [
    {
     "data": {
      "text/plain": [
       "member_casual\n",
       "member    0.811085\n",
       "casual    0.188915\n",
       "Name: proportion, dtype: float64"
      ]
     },
     "execution_count": 12,
     "metadata": {},
     "output_type": "execute_result"
    }
   ],
   "source": [
    "df['member_casual'].value_counts(normalize=True)"
   ]
  },
  {
   "cell_type": "markdown",
   "id": "39a0ddc4-fbc4-4c84-b48e-b963a252ba5d",
   "metadata": {},
   "source": [
    "## 9. Most popular start trip stations"
   ]
  },
  {
   "cell_type": "markdown",
   "id": "6f6975db-6b69-4aed-b828-976ae6d0aba2",
   "metadata": {},
   "source": [
    "Identifying the most frequented stations helps understand where demand is highest, which is useful for operational planning."
   ]
  },
  {
   "cell_type": "code",
   "execution_count": 13,
   "id": "64521086-862c-4192-b865-c5c0c9ced314",
   "metadata": {},
   "outputs": [
    {
     "data": {
      "text/plain": [
       "<Axes: title={'center': 'Top 10 Start Stations'}, ylabel='start_station_name'>"
      ]
     },
     "execution_count": 13,
     "metadata": {},
     "output_type": "execute_result"
    },
    {
     "data": {
      "image/png": "[encoded data removed]",
      "text/plain": [
       "<Figure size 640x480 with 1 Axes>"
      ]
     },
     "metadata": {},
     "output_type": "display_data"
    }
   ],
   "source": [
    "top_stations = df['start_station_name'].value_counts().head(10)\n",
    "top_stations.plot(kind='barh', title='Top 10 Start Stations')"
   ]
  },
  {
   "cell_type": "markdown",
   "id": "567085c3-e5c5-4915-87fc-df127db4d679",
   "metadata": {},
   "source": [
    "## 10. Resume and key findigns"
   ]
  },
  {
   "cell_type": "markdown",
   "id": "5441fbbc-929f-4a1b-9412-6ac12fcdfaa8",
   "metadata": {},
   "source": [
    "- The dataset contains over XXX trips, merged from six CSV files.  \n",
    "- Average trip duration is around 10–15 minutes.  \n",
    "- Members make up the majority of trips.  \n",
    "- Trip frequency peaks during morning and evening commute hours.  \n",
    "- The busiest stations are located in Midtown and Downtown Manhattan."
   ]
  }
 ],
 "metadata": {
  "kernelspec": {
   "display_name": "Python 3 (ipykernel)",
   "language": "python",
   "name": "python3"
  },
  "language_info": {
   "codemirror_mode": {
    "name": "ipython",
    "version": 3
   },
   "file_extension": ".py",
   "mimetype": "text/x-python",
   "name": "python",
   "nbconvert_exporter": "python",
   "pygments_lexer": "ipython3",
   "version": "3.10.11"
  }
 },
 "nbformat": 4,
 "nbformat_minor": 5
}
